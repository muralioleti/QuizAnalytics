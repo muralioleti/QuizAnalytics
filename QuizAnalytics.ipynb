{
  "nbformat": 4,
  "nbformat_minor": 0,
  "metadata": {
    "colab": {
      "provenance": [],
      "authorship_tag": "ABX9TyNsjS17DwLNTyp7Fvkz05aW",
      "include_colab_link": true
    },
    "kernelspec": {
      "name": "python3",
      "display_name": "Python 3"
    },
    "language_info": {
      "name": "python"
    }
  },
  "cells": [
    {
      "cell_type": "markdown",
      "metadata": {
        "id": "view-in-github",
        "colab_type": "text"
      },
      "source": [
        "<a href=\"https://colab.research.google.com/github/muralioleti/QuizAnalytics/blob/main/QuizAnalytics.ipynb\" target=\"_parent\"><img src=\"https://colab.research.google.com/assets/colab-badge.svg\" alt=\"Open In Colab\"/></a>"
      ]
    },
    {
      "cell_type": "markdown",
      "source": [
        "Data Setup:"
      ],
      "metadata": {
        "id": "SJyoIGCepJNt"
      }
    },
    {
      "cell_type": "code",
      "source": [
        "import pandas as pd\n",
        "\n",
        "# Dataset 1: User Performance (Hardcoded)\n",
        "quiz_results_data = {\n",
        "    'user_id': [1, 2, 3, 4, 5],\n",
        "    'score': [95, 80, 60, 50, 85],\n",
        "    'accuracy': [0.95, 0.80, 0.60, 0.50, 0.85]\n",
        "}\n",
        "\n",
        "# Dataset 2: Quiz Information (Hardcoded)\n",
        "quiz_details_data = {\n",
        "    'quiz_id': [101, 102, 103, 104, 105],\n",
        "    'topic': ['Math', 'Science', 'History', 'Math', 'Literature'],\n",
        "    'difficulty_level': [3, 2, 4, 2, 1],\n",
        "    'duration': [30, 25, 40, 35, 30],\n",
        "    'name': [None, None, None, None, None],  # Using None for null\n",
        "    'is_published': [True, False, True, False, True],  # Using True/False for boolean\n",
        "    'created_at': ['2024-07-03T00:00:00.000+05:30', '2024-07-03T00:00:00.000+05:30', '2024-07-03T00:00:00.000+05:30', '2024-07-03T00:00:00.000+05:30', '2024-07-03T00:00:00.000+05:30'],\n",
        "    'updated_at': ['2024-09-23T18:43:27.751+05:30', '2024-09-23T18:43:27.751+05:30', '2024-09-23T18:43:27.751+05:30', '2024-09-23T18:43:27.751+05:30', '2024-09-23T18:43:27.751+05:30']\n",
        "}\n",
        "\n",
        "# Dataset 3: Question-Level Data (Hardcoded)\n",
        "quiz_response_data = {\n",
        "    'question_id': [1, 2, 3, 4, 5],\n",
        "    'is_correct': [1, 0, 1, 1, 0]\n",
        "}\n",
        "\n",
        "# Convert data to DataFrames\n",
        "quiz_results_df = pd.DataFrame(quiz_results_data)\n",
        "quiz_details_df = pd.DataFrame(quiz_details_data)\n",
        "quiz_response_df = pd.DataFrame(quiz_response_data)\n",
        "\n",
        "# Preview the datasets\n",
        "print(quiz_results_df.head())\n",
        "print(quiz_details_df.head())\n",
        "print(quiz_response_df.head())\n"
      ],
      "metadata": {
        "colab": {
          "base_uri": "https://localhost:8080/"
        },
        "id": "IYNvGgponxOa",
        "outputId": "9521394f-0a2a-4450-b09b-55abc898e533"
      },
      "execution_count": 6,
      "outputs": [
        {
          "output_type": "stream",
          "name": "stdout",
          "text": [
            "   user_id  score  accuracy\n",
            "0        1     95      0.95\n",
            "1        2     80      0.80\n",
            "2        3     60      0.60\n",
            "3        4     50      0.50\n",
            "4        5     85      0.85\n",
            "   quiz_id       topic  difficulty_level  duration  name  is_published  \\\n",
            "0      101        Math                 3        30  None          True   \n",
            "1      102     Science                 2        25  None         False   \n",
            "2      103     History                 4        40  None          True   \n",
            "3      104        Math                 2        35  None         False   \n",
            "4      105  Literature                 1        30  None          True   \n",
            "\n",
            "                      created_at                     updated_at  \n",
            "0  2024-07-03T00:00:00.000+05:30  2024-09-23T18:43:27.751+05:30  \n",
            "1  2024-07-03T00:00:00.000+05:30  2024-09-23T18:43:27.751+05:30  \n",
            "2  2024-07-03T00:00:00.000+05:30  2024-09-23T18:43:27.751+05:30  \n",
            "3  2024-07-03T00:00:00.000+05:30  2024-09-23T18:43:27.751+05:30  \n",
            "4  2024-07-03T00:00:00.000+05:30  2024-09-23T18:43:27.751+05:30  \n",
            "   question_id  is_correct\n",
            "0            1           1\n",
            "1            2           0\n",
            "2            3           1\n",
            "3            4           1\n",
            "4            5           0\n"
          ]
        }
      ]
    },
    {
      "cell_type": "markdown",
      "source": [
        "Analyze Dataset 1: User Performance:"
      ],
      "metadata": {
        "id": "XRaoskmWpIVJ"
      }
    },
    {
      "cell_type": "code",
      "source": [
        "# Dataset 1: User Performance Analysis\n",
        "# Calculate average score and accuracy\n",
        "avg_score = quiz_results_df['score'].mean()\n",
        "avg_accuracy = quiz_results_df['accuracy'].mean()\n",
        "\n",
        "# Top 5 best performing users\n",
        "top_performers = quiz_results_df.nlargest(5, 'score')\n",
        "\n",
        "# Top 5 worst performing users\n",
        "worst_performers = quiz_results_df.nsmallest(5, 'score')\n",
        "\n",
        "print(f\"Average Score: {avg_score}\")\n",
        "print(f\"Average Accuracy: {avg_accuracy}\")\n",
        "print(f\"Top Performers: {top_performers[['user_id', 'score']]}\")\n",
        "print(f\"Worst Performers: {worst_performers[['user_id', 'score']]}\")\n"
      ],
      "metadata": {
        "colab": {
          "base_uri": "https://localhost:8080/"
        },
        "id": "RSbCXZmSpIFM",
        "outputId": "c2a99977-e106-439b-c3d6-b7ca5e911c38"
      },
      "execution_count": 7,
      "outputs": [
        {
          "output_type": "stream",
          "name": "stdout",
          "text": [
            "Average Score: 74.0\n",
            "Average Accuracy: 0.74\n",
            "Top Performers:    user_id  score\n",
            "0        1     95\n",
            "4        5     85\n",
            "1        2     80\n",
            "2        3     60\n",
            "3        4     50\n",
            "Worst Performers:    user_id  score\n",
            "3        4     50\n",
            "2        3     60\n",
            "1        2     80\n",
            "4        5     85\n",
            "0        1     95\n"
          ]
        }
      ]
    },
    {
      "cell_type": "markdown",
      "source": [
        "Analyze Dataset 2: Quiz Information:"
      ],
      "metadata": {
        "id": "eOIHyaQLpH_a"
      }
    },
    {
      "cell_type": "code",
      "source": [
        "# Dataset 2: Quiz Information Analysis\n",
        "# Quiz topic distribution\n",
        "quiz_topic_count = quiz_details_df['topic'].value_counts()\n",
        "\n",
        "# Average difficulty of quizzes\n",
        "avg_difficulty = quiz_details_df['difficulty_level'].mean()\n",
        "\n",
        "# Average duration of quizzes\n",
        "avg_duration = quiz_details_df['duration'].mean()\n",
        "\n",
        "print(f\"Quiz Topic Distribution: {quiz_topic_count}\")\n",
        "print(f\"Average Difficulty: {avg_difficulty}\")\n",
        "print(f\"Average Quiz Duration: {avg_duration}\")\n"
      ],
      "metadata": {
        "colab": {
          "base_uri": "https://localhost:8080/"
        },
        "id": "VcS3FBc2pH4V",
        "outputId": "88b392b6-1993-45a6-a2d9-bcd37940fac4"
      },
      "execution_count": 8,
      "outputs": [
        {
          "output_type": "stream",
          "name": "stdout",
          "text": [
            "Quiz Topic Distribution: topic\n",
            "Math          2\n",
            "Science       1\n",
            "History       1\n",
            "Literature    1\n",
            "Name: count, dtype: int64\n",
            "Average Difficulty: 2.4\n",
            "Average Quiz Duration: 32.0\n"
          ]
        }
      ]
    },
    {
      "cell_type": "markdown",
      "source": [
        "Analyze Dataset 3: Question-Level Data:"
      ],
      "metadata": {
        "id": "Gduy1-2ApHx2"
      }
    },
    {
      "cell_type": "code",
      "source": [
        "# Dataset 3: Question-Level Analysis\n",
        "# Calculate correct vs incorrect answers for each question\n",
        "question_performance = quiz_response_df.groupby('question_id').agg(\n",
        "    correct_answers=('is_correct', 'sum'),\n",
        "    total_answers=('is_correct', 'count')\n",
        ")\n",
        "\n",
        "# Calculate accuracy for each question\n",
        "question_performance['accuracy'] = question_performance['correct_answers'] / question_performance['total_answers']\n",
        "\n",
        "hardest_questions = question_performance.sort_values(by='accuracy').head(5)\n",
        "\n",
        "print(f\"Question Performance:\\n{question_performance.head()}\")\n",
        "print(f\"Hardest Questions:\\n{hardest_questions[['accuracy']]}\")\n"
      ],
      "metadata": {
        "colab": {
          "base_uri": "https://localhost:8080/"
        },
        "id": "hoNX2YcnpHp3",
        "outputId": "f9e1c9f9-95ac-4317-cf55-068298f2c9a3"
      },
      "execution_count": 10,
      "outputs": [
        {
          "output_type": "stream",
          "name": "stdout",
          "text": [
            "Question Performance:\n",
            "             correct_answers  total_answers  accuracy\n",
            "question_id                                          \n",
            "1                          1              1       1.0\n",
            "2                          0              1       0.0\n",
            "3                          1              1       1.0\n",
            "4                          1              1       1.0\n",
            "5                          0              1       0.0\n",
            "Hardest Questions:\n",
            "             accuracy\n",
            "question_id          \n",
            "2                 0.0\n",
            "5                 0.0\n",
            "1                 1.0\n",
            "3                 1.0\n",
            "4                 1.0\n"
          ]
        }
      ]
    },
    {
      "cell_type": "markdown",
      "source": [
        "Visualize the Data:"
      ],
      "metadata": {
        "id": "KJAR5xdcpHhn"
      }
    },
    {
      "cell_type": "code",
      "source": [
        "import matplotlib.pyplot as plt\n",
        "\n",
        "# Visualization of quiz topic distribution (Dataset 2)\n",
        "plt.figure(figsize=(10,6))\n",
        "quiz_topic_count.plot(kind='bar')\n",
        "plt.title(\"Quiz Topic Distribution\")\n",
        "plt.xlabel(\"Topic\")\n",
        "plt.ylabel(\"Count\")\n",
        "plt.show()\n",
        "\n",
        "# Visualization of top performers (Dataset 1)\n",
        "plt.figure(figsize=(10,6))\n",
        "top_performers[['user_id', 'score']].set_index('user_id').plot(kind='bar')\n",
        "plt.title(\"Top 5 Performers\")\n",
        "plt.xlabel(\"User ID\")\n",
        "plt.ylabel(\"Score\")\n",
        "plt.show()\n",
        "\n",
        "# Visualization of question performance (Dataset 3)\n",
        "plt.figure(figsize=(10,6))\n",
        "question_performance['accuracy'].plot(kind='bar', color='red')\n",
        "plt.title(\"Question Accuracy\")\n",
        "plt.xlabel(\"Question ID\")\n",
        "plt.ylabel(\"Accuracy\")\n",
        "plt.show()\n"
      ],
      "metadata": {
        "colab": {
          "base_uri": "https://localhost:8080/",
          "height": 1000
        },
        "id": "TpJ8X2-mpHYT",
        "outputId": "0502815a-47db-4761-f4b1-a7a3053b8030"
      },
      "execution_count": 11,
      "outputs": [
        {
          "output_type": "display_data",
          "data": {
            "text/plain": [
              "<Figure size 1000x600 with 1 Axes>"
            ],
            "image/png": "[encoded data removed]"
          },
          "metadata": {}
        },
        {
          "output_type": "display_data",
          "data": {
            "text/plain": [
              "<Figure size 1000x600 with 0 Axes>"
            ]
          },
          "metadata": {}
        },
        {
          "output_type": "display_data",
          "data": {
            "text/plain": [
              "<Figure size 640x480 with 1 Axes>"
            ],
            "image/png": "[encoded data removed]"
          },
          "metadata": {}
        },
        {
          "output_type": "display_data",
          "data": {
            "text/plain": [
              "<Figure size 1000x600 with 1 Axes>"
            ],
            "image/png": "[encoded data removed]"
          },
          "metadata": {}
        }
      ]
    }
  ]
}